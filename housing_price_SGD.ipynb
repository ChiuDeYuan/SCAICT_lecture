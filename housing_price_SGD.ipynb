{
  "nbformat": 4,
  "nbformat_minor": 0,
  "metadata": {
    "colab": {
      "provenance": [],
      "authorship_tag": "ABX9TyMM/9zcR/HIF46YQMh93+sq"
    },
    "kernelspec": {
      "name": "python3",
      "display_name": "Python 3"
    },
    "language_info": {
      "name": "python"
    }
  },
  "cells": [
    {
      "cell_type": "markdown",
      "source": [
        "# 隨機梯度下降SGD\n",
        "### 中電會三月主題課程(2024/3/23)"
      ],
      "metadata": {
        "id": "E7hV5YlhvqQe"
      }
    },
    {
      "cell_type": "markdown",
      "source": [
        "<table class=\"tfo-notebook-buttons\" align=\"left\">\n",
        "  <td>\n",
        "  <td>\n",
        "    <a target=\"_blank\" href=\"https://colab.research.google.com/github/ChiuDeYuan/linear_regression_example/blob/main/housing_price_SGD.ipynb\"><img src=\"https://www.tensorflow.org/images/colab_logo_32px.png\" />Run in Google Colab</a>\n",
        "  </td>\n",
        "  <td>\n",
        "    <a target=\"_blank\" href=\"https://github.com/ChiuDeYuan/linear_regression_example/blob/main/housing_price_SGD.ipynb\"><img src=\"https://www.tensorflow.org/images/GitHub-Mark-32px.png\" />View on GitHub</a>\n",
        "  </td>\n",
        "</table>"
      ],
      "metadata": {
        "id": "hvAyvnq4v8Qd"
      }
    },
    {
      "cell_type": "markdown",
      "source": [
        "## Useful links\n",
        "\n",
        "* Housing Prices Dataset : https://www.kaggle.com/datasets/yasserh/housing-prices-dataset\n",
        "* SGD (Scikit-learn) : https://scikit-learn.org/stable/modules/generated/sklearn.linear_model.SGDRegressor.html"
      ],
      "metadata": {
        "id": "7nkyBWxAwFCv"
      }
    },
    {
      "cell_type": "markdown",
      "source": [
        "## Imports"
      ],
      "metadata": {
        "id": "rf020EPQ2_DU"
      }
    },
    {
      "cell_type": "code",
      "execution_count": 1,
      "metadata": {
        "id": "lqFmymCrL0gG"
      },
      "outputs": [],
      "source": [
        "from sklearn import linear_model\n",
        "from sklearn.metrics import r2_score\n",
        "from sklearn.utils import shuffle\n",
        "from sklearn.linear_model import SGDRegressor\n",
        "from sklearn.preprocessing import StandardScaler"
      ]
    },
    {
      "cell_type": "code",
      "source": [
        "import matplotlib.pyplot as plt\n",
        "import numpy as np\n",
        "import pandas as pd"
      ],
      "metadata": {
        "id": "eG4VkNUmMFJi"
      },
      "execution_count": 2,
      "outputs": []
    },
    {
      "cell_type": "markdown",
      "source": [
        "## Loads data"
      ],
      "metadata": {
        "id": "DJjr8rOS3Fo0"
      }
    },
    {
      "cell_type": "code",
      "source": [
        "dataset_path = 'https://raw.githubusercontent.com/ChiuDeYuan/linear_regression_example/main/Housing.csv'\n",
        "dataset = pd.read_csv(dataset_path)"
      ],
      "metadata": {
        "id": "OE6x3J_S3I0e"
      },
      "execution_count": 3,
      "outputs": []
    },
    {
      "cell_type": "code",
      "source": [
        "dataset.head()"
      ],
      "metadata": {
        "id": "eSfQE61L3KhM"
      },
      "execution_count": null,
      "outputs": []
    },
    {
      "cell_type": "code",
      "source": [
        "dataset.shape"
      ],
      "metadata": {
        "id": "-D4ONayv3LfW"
      },
      "execution_count": null,
      "outputs": []
    },
    {
      "cell_type": "markdown",
      "source": [
        "## 縮放數據"
      ],
      "metadata": {
        "id": "hqgRfcxd3OAo"
      }
    },
    {
      "cell_type": "code",
      "source": [
        "scaler = StandardScaler()\n",
        "\n",
        "vars = ['area', 'price']\n",
        "dataset[vars] = scaler.fit_transform(dataset[vars])"
      ],
      "metadata": {
        "id": "skAizaR23Thz"
      },
      "execution_count": 6,
      "outputs": []
    },
    {
      "cell_type": "code",
      "source": [
        "dataset.head()"
      ],
      "metadata": {
        "id": "NBCF5Z6C3VS3"
      },
      "execution_count": null,
      "outputs": []
    },
    {
      "cell_type": "markdown",
      "source": [
        "## 準備資料"
      ],
      "metadata": {
        "id": "iXR8DiNL3dFz"
      }
    },
    {
      "cell_type": "code",
      "source": [
        "dataset_x = dataset[['area']]\n",
        "dataset_y = dataset[['price']]"
      ],
      "metadata": {
        "id": "LJeV1Och3Wsa"
      },
      "execution_count": 8,
      "outputs": []
    },
    {
      "cell_type": "code",
      "source": [
        "plt.xlabel(\"area\")\n",
        "plt.ylabel(\"price\")\n",
        "plt.plot(dataset_x, dataset_y, '.')"
      ],
      "metadata": {
        "id": "1kPmy4Zu7qRs"
      },
      "execution_count": null,
      "outputs": []
    },
    {
      "cell_type": "markdown",
      "source": [
        "## 分割資料集"
      ],
      "metadata": {
        "id": "55n2lEWa9jcO"
      }
    },
    {
      "cell_type": "code",
      "source": [
        "dataset_x, dataset_y = shuffle(dataset_x, dataset_y, random_state=0)"
      ],
      "metadata": {
        "id": "ZKtu5K-E9mza"
      },
      "execution_count": 10,
      "outputs": []
    },
    {
      "cell_type": "code",
      "source": [
        "dataset_x_train = dataset_x[:-30]\n",
        "dataset_x_test = dataset_x[-30:]\n",
        "\n",
        "dataset_y_train = dataset_y[:-30]\n",
        "dataset_y_test = dataset_y[-30:]"
      ],
      "metadata": {
        "id": "tYLDxQ959nfR"
      },
      "execution_count": 11,
      "outputs": []
    },
    {
      "cell_type": "code",
      "source": [
        "print(f\"{dataset_x_train.shape}\\n{dataset_x_test.shape}\")"
      ],
      "metadata": {
        "id": "MopkSWAv9pwe"
      },
      "execution_count": null,
      "outputs": []
    },
    {
      "cell_type": "markdown",
      "source": [
        "## 訓練模型"
      ],
      "metadata": {
        "id": "HcWlnzbT49Ip"
      }
    },
    {
      "cell_type": "code",
      "source": [
        "sgd = SGDRegressor(loss='squared_error', learning_rate='adaptive')"
      ],
      "metadata": {
        "id": "5BtOPYdm4_7H"
      },
      "execution_count": 13,
      "outputs": []
    },
    {
      "cell_type": "code",
      "source": [
        "sgd.fit(dataset_x_train, dataset_y_train)"
      ],
      "metadata": {
        "id": "ySHpkuCDDK0Q"
      },
      "execution_count": null,
      "outputs": []
    },
    {
      "cell_type": "markdown",
      "source": [
        "## 預測&評估"
      ],
      "metadata": {
        "id": "UWfhMzc7DtaR"
      }
    },
    {
      "cell_type": "code",
      "source": [
        "prediction = sgd.predict(dataset_x_test)"
      ],
      "metadata": {
        "id": "2dQDhdUvD8ud"
      },
      "execution_count": 15,
      "outputs": []
    },
    {
      "cell_type": "code",
      "source": [
        "r2_score(dataset_y_test, prediction)"
      ],
      "metadata": {
        "id": "OjXDrBojEV3-"
      },
      "execution_count": null,
      "outputs": []
    },
    {
      "cell_type": "code",
      "source": [
        "plt.scatter(dataset_x_test['area'], dataset_y_test, color=\"black\")\n",
        "plt.plot(dataset_x_test['area'], prediction, color=\"blue\")\n",
        "plt.show()"
      ],
      "metadata": {
        "id": "yT53zVoQEKUi"
      },
      "execution_count": null,
      "outputs": []
    }
  ]
}