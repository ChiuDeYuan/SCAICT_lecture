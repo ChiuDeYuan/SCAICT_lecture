{
  "nbformat": 4,
  "nbformat_minor": 0,
  "metadata": {
    "colab": {
      "provenance": [],
      "authorship_tag": "ABX9TyPN6nZhOWFXJQioLteV2fqz"
    },
    "kernelspec": {
      "name": "python3",
      "display_name": "Python 3"
    },
    "language_info": {
      "name": "python"
    }
  },
  "cells": [
    {
      "cell_type": "markdown",
      "source": [
        "# 普通最小平方法OLS\n",
        "### 中電會三月主題課程(2024/3/23)"
      ],
      "metadata": {
        "id": "YNVvSkWaDcLk"
      }
    },
    {
      "cell_type": "markdown",
      "source": [
        "<table class=\"tfo-notebook-buttons\" align=\"left\">\n",
        "  <td>\n",
        "  <td>\n",
        "    <a target=\"_blank\" href=\"https://colab.research.google.com/github/ChiuDeYuan/linear_regression_example/blob/main/housing_price_OLS.ipynb\"><img src=\"https://www.tensorflow.org/images/colab_logo_32px.png\" />Run in Google Colab</a>\n",
        "  </td>\n",
        "  <td>\n",
        "    <a target=\"_blank\" href=\"https://github.com/ChiuDeYuan/linear_regression_example/blob/main/housing_price_OLS.ipynb\"><img src=\"https://www.tensorflow.org/images/GitHub-Mark-32px.png\" />View on GitHub</a>\n",
        "  </td>\n",
        "</table>"
      ],
      "metadata": {
        "id": "9rqVcyk1dyxN"
      }
    },
    {
      "cell_type": "markdown",
      "source": [
        "## Useful links\n",
        "\n",
        "* Housing Prices Dataset : https://www.kaggle.com/datasets/yasserh/housing-prices-dataset\n",
        "* Linear Models (Scikit-learn) : https://scikit-learn.org/stable/modules/linear_model.html"
      ],
      "metadata": {
        "id": "u8zycwRysXMy"
      }
    },
    {
      "cell_type": "markdown",
      "source": [
        "## Imports"
      ],
      "metadata": {
        "id": "y7WGl4s1fOJQ"
      }
    },
    {
      "cell_type": "code",
      "source": [
        "from sklearn.metrics import r2_score\n",
        "from sklearn.utils import shuffle\n",
        "from sklearn.preprocessing import StandardScaler"
      ],
      "metadata": {
        "id": "PQhTwhp3kRYV"
      },
      "execution_count": 1,
      "outputs": []
    },
    {
      "cell_type": "code",
      "source": [
        "import statsmodels.api as sm"
      ],
      "metadata": {
        "id": "OmX8RRHyxPxU"
      },
      "execution_count": 2,
      "outputs": []
    },
    {
      "cell_type": "code",
      "execution_count": 3,
      "metadata": {
        "id": "8PXl_Sq7MF5O"
      },
      "outputs": [],
      "source": [
        "import matplotlib.pyplot as plt\n",
        "import numpy as np\n",
        "import pandas as pd"
      ]
    },
    {
      "cell_type": "markdown",
      "source": [
        "## Loads data"
      ],
      "metadata": {
        "id": "-WC7EGRwkV3x"
      }
    },
    {
      "cell_type": "code",
      "source": [
        "dataset_path = 'https://raw.githubusercontent.com/ChiuDeYuan/linear_regression_example/main/Housing.csv'\n",
        "dataset = pd.read_csv(dataset_path)"
      ],
      "metadata": {
        "id": "tippM5KdREty"
      },
      "execution_count": 4,
      "outputs": []
    },
    {
      "cell_type": "code",
      "source": [
        "dataset.head()"
      ],
      "metadata": {
        "id": "J1Adra4pS8tP"
      },
      "execution_count": null,
      "outputs": []
    },
    {
      "cell_type": "code",
      "source": [
        "dataset.shape"
      ],
      "metadata": {
        "id": "8Ak_NQlh1DgV"
      },
      "execution_count": null,
      "outputs": []
    },
    {
      "cell_type": "markdown",
      "source": [
        "## 縮放數據"
      ],
      "metadata": {
        "id": "ebLz-Yj6HM1P"
      }
    },
    {
      "cell_type": "code",
      "source": [
        "scaler = StandardScaler()\n",
        "\n",
        "vars = ['area', 'price']\n",
        "dataset[vars] = scaler.fit_transform(dataset[vars])"
      ],
      "metadata": {
        "id": "tVPu5A-THm0E"
      },
      "execution_count": 7,
      "outputs": []
    },
    {
      "cell_type": "code",
      "source": [
        "dataset.head()"
      ],
      "metadata": {
        "id": "Wh5xoGbBILRw"
      },
      "execution_count": null,
      "outputs": []
    },
    {
      "cell_type": "markdown",
      "source": [
        "## 準備資料\n",
        "\n"
      ],
      "metadata": {
        "id": "mU0Bw2Z_0Klt"
      }
    },
    {
      "cell_type": "code",
      "source": [
        "dataset_x = dataset[['area']]\n",
        "dataset_y = dataset[['price']]"
      ],
      "metadata": {
        "id": "gJkUmPm9d6Wg"
      },
      "execution_count": 9,
      "outputs": []
    },
    {
      "cell_type": "code",
      "source": [
        "plt.xlabel(\"area\")\n",
        "plt.ylabel(\"price\")\n",
        "plt.plot(dataset_x, dataset_y, '.')"
      ],
      "metadata": {
        "id": "M25pnzVafK5v"
      },
      "execution_count": null,
      "outputs": []
    },
    {
      "cell_type": "code",
      "source": [
        "dataset_x = sm.add_constant(dataset_x)"
      ],
      "metadata": {
        "id": "g-H6vbyfx46x"
      },
      "execution_count": 11,
      "outputs": []
    },
    {
      "cell_type": "code",
      "source": [
        "dataset_x.head()"
      ],
      "metadata": {
        "id": "mmaWvIUbx8qN"
      },
      "execution_count": null,
      "outputs": []
    },
    {
      "cell_type": "code",
      "source": [
        "dataset_y.head()"
      ],
      "metadata": {
        "id": "r1oFyeM1HCdG"
      },
      "execution_count": null,
      "outputs": []
    },
    {
      "cell_type": "markdown",
      "source": [
        "## 分割資料集"
      ],
      "metadata": {
        "id": "tTfDlsU1xe8C"
      }
    },
    {
      "cell_type": "code",
      "source": [
        "dataset_x, dataset_y = shuffle(dataset_x, dataset_y, random_state=0)"
      ],
      "metadata": {
        "id": "Euv5GyR75Jad"
      },
      "execution_count": 14,
      "outputs": []
    },
    {
      "cell_type": "code",
      "source": [
        "dataset_x_train = dataset_x[:-30]\n",
        "dataset_x_test = dataset_x[-30:]\n",
        "\n",
        "dataset_y_train = dataset_y[:-30]\n",
        "dataset_y_test = dataset_y[-30:]"
      ],
      "metadata": {
        "id": "C4Xu2kir5kGj"
      },
      "execution_count": 15,
      "outputs": []
    },
    {
      "cell_type": "code",
      "source": [
        "print(f\"{dataset_x_train.shape}\\n{dataset_x_test.shape}\")"
      ],
      "metadata": {
        "id": "JFa51XFPxqCM"
      },
      "execution_count": null,
      "outputs": []
    },
    {
      "cell_type": "markdown",
      "source": [
        "## 訓練模型"
      ],
      "metadata": {
        "id": "Iae5gMQ2ooz1"
      }
    },
    {
      "cell_type": "code",
      "source": [
        "reg = sm.OLS(dataset_y_train,dataset_x_train).fit()"
      ],
      "metadata": {
        "id": "iMPW2cFlowtS"
      },
      "execution_count": 17,
      "outputs": []
    },
    {
      "cell_type": "markdown",
      "source": [
        "## 預測&評估"
      ],
      "metadata": {
        "id": "HGhNyr9zCVnl"
      }
    },
    {
      "cell_type": "code",
      "source": [
        "print(reg.summary())"
      ],
      "metadata": {
        "id": "W64mRqXMAMAg"
      },
      "execution_count": null,
      "outputs": []
    },
    {
      "cell_type": "code",
      "source": [
        "prediction = reg.predict(dataset_x_test)"
      ],
      "metadata": {
        "id": "JojaFuCzAFpe"
      },
      "execution_count": 19,
      "outputs": []
    },
    {
      "cell_type": "code",
      "source": [
        "r2_score(dataset_y_test, prediction)"
      ],
      "metadata": {
        "id": "RUffFGSvyYiE"
      },
      "execution_count": null,
      "outputs": []
    },
    {
      "cell_type": "code",
      "source": [
        "plt.scatter(dataset_x_test['area'], dataset_y_test, color=\"black\")\n",
        "plt.plot(dataset_x_test['area'], prediction, color=\"blue\")\n",
        "plt.show()"
      ],
      "metadata": {
        "id": "vR9zcXjXAxo1"
      },
      "execution_count": null,
      "outputs": []
    }
  ]
}