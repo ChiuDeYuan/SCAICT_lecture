{
  "nbformat": 4,
  "nbformat_minor": 0,
  "metadata": {
    "colab": {
      "provenance": [],
      "collapsed_sections": [
        "ZNXzuTQPhZ-L",
        "Yhe-mOFuheJj",
        "PeAdF9KxhivC",
        "O6OOjUVpUnDD",
        "MfGceLJ7hq85",
        "Cz4Qmn5aF_ZJ",
        "XsII2TPDdGCU"
      ],
      "authorship_tag": "ABX9TyN5NUnnfByjokJk3RFGFGDz"
    },
    "kernelspec": {
      "name": "python3",
      "display_name": "Python 3"
    },
    "language_info": {
      "name": "python"
    }
  },
  "cells": [
    {
      "cell_type": "markdown",
      "source": [
        "# 深度學習DL\n",
        "### 中電會四月主題課程(2024/4/13)"
      ],
      "metadata": {
        "id": "8EnA1cUig6m3"
      }
    },
    {
      "cell_type": "markdown",
      "source": [
        "<table class=\"tfo-notebook-buttons\" align=\"left\">\n",
        "  <td>\n",
        "  <td>\n",
        "    <a target=\"_blank\" href=\"https://colab.research.google.com/github/ChiuDeYuan/SCAICT_lecture/blob/main/0413/housing_price_deeplearning.ipynb\"><img src=\"https://www.tensorflow.org/images/colab_logo_32px.png\" />Run in Google Colab</a>\n",
        "  </td>\n",
        "  <td>\n",
        "    <a target=\"_blank\" href=\"https://github.com/ChiuDeYuan/SCAICT_lecture/blob/main/0413/housing_price_deeplearning.ipynb\"><img src=\"https://www.tensorflow.org/images/GitHub-Mark-32px.png\" />View on GitHub</a>\n",
        "  </td>\n",
        "</table>"
      ],
      "metadata": {
        "id": "St1UxHrUhC2r"
      }
    },
    {
      "cell_type": "markdown",
      "source": [
        "## Useful links\n",
        "\n",
        "* Housing Prices Dataset : https://www.kaggle.com/datasets/yasserh/housing-prices-dataset\n",
        "* Deep Learning (Pytorch) : https://pytorch.org/tutorials/beginner/deep_learning_60min_blitz.html"
      ],
      "metadata": {
        "id": "zXLOlibfhOxA"
      }
    },
    {
      "cell_type": "markdown",
      "source": [
        "## Imports\n",
        "本範例使用pytorch建構神經網路<br>\n",
        "sklearn進行部分資料處理"
      ],
      "metadata": {
        "id": "ZNXzuTQPhZ-L"
      }
    },
    {
      "cell_type": "code",
      "source": [
        "# 使用pytorch建構神經網路\n",
        "import torch\n",
        "from torch.utils.data import DataLoader\n",
        "from torch.utils.data import Dataset\n",
        "import torch.nn as nn"
      ],
      "metadata": {
        "id": "t0W6R-ZvvM4V"
      },
      "execution_count": 57,
      "outputs": []
    },
    {
      "cell_type": "code",
      "source": [
        "# 使用sklearn進行部分資料處理\n",
        "from sklearn.preprocessing import StandardScaler\n",
        "from sklearn.preprocessing import MinMaxScaler\n",
        "from sklearn.utils import shuffle"
      ],
      "metadata": {
        "id": "Vci_K8xmAC6M"
      },
      "execution_count": 58,
      "outputs": []
    },
    {
      "cell_type": "code",
      "execution_count": 59,
      "metadata": {
        "id": "ZYI_SFpGBdUw"
      },
      "outputs": [],
      "source": [
        "# 跟一些數學運算相關\n",
        "import numpy as np\n",
        "\n",
        "# 畫圖用\n",
        "import matplotlib.pyplot as plt\n",
        "\n",
        "# 讀取資料用\n",
        "import pandas as pd"
      ]
    },
    {
      "cell_type": "markdown",
      "source": [
        "## 定義資料類別\n",
        "pytorch需要傳入可迭代的資料集物件<br>\n",
        "這個物件是由 torch.utils.data 中的 Dataset 繼承而來(見上方imports)<br><br>\n",
        "資料集物件必須包含\\_\\_init__( )、\\_\\_len__( )、\\_\\_getitem\\_\\_( )<br>\n",
        "然後我又在這個物件中定義了其他資料處理的method<br><br>\n",
        "\\_\\_init__( )是用來初始化資料集<br>\n",
        "\\_\\_len__( )回傳資料集的資料筆數<br>\n",
        "\\_\\_getitem__( )會根據index回傳一筆資料<br><br>\n",
        "select( )用來選擇特徵<br>\n",
        "map_features( )將yes/no的標記轉換成1/0以用於數學運算<br>\n",
        "scale( )用於縮放數據<br>\n",
        "head( )會顯示前num筆資料<br>\n",
        "shape( )回傳資料集的形狀<br>"
      ],
      "metadata": {
        "id": "FWh_KM0GMuaJ"
      }
    },
    {
      "cell_type": "code",
      "source": [
        "class HousingPriceDataset(Dataset):\n",
        "\n",
        "    def __init__(self, path, is_train=True):\n",
        "        self.dataset = pd.read_csv(path)    # 讀資料\n",
        "        self.dataset = shuffle(self.dataset, random_state=0)    # 打亂資料\n",
        "\n",
        "        if(is_train):   # 分割資料集\n",
        "            self.dataset = self.dataset[:-60]\n",
        "        else:\n",
        "            self.dataset = self.dataset[-60:]\n",
        "\n",
        "    def __len__(self):\n",
        "        return len(self.dataset)\n",
        "\n",
        "    def __getitem__(self, idx):\n",
        "        label = self.dataset.iloc[idx, 0]\n",
        "        features = self.dataset.iloc[idx, 1:]\n",
        "\n",
        "        # 將dataframe型態資料轉換成tensor\n",
        "        label = torch.tensor(label)\n",
        "        features = torch.tensor(features.values)\n",
        "\n",
        "        label = label.unsqueeze(0)  # 避免tensor維度自動被降低\n",
        "        label = label.float()   # 將double轉成float\n",
        "        features = features.float() # 將double轉成float\n",
        "\n",
        "        return features, label\n",
        "\n",
        "    def select(self, support):\n",
        "        self.dataset = self.dataset[support]\n",
        "\n",
        "    def map_features(self, mapped_var, map_func):\n",
        "        self.dataset[mapped_var] = self.dataset[mapped_var].apply(map_func)\n",
        "\n",
        "    def scale(self, scaler, vars):\n",
        "        self.dataset[vars] = scaler.fit_transform(self.dataset[vars])\n",
        "\n",
        "    def head(self, num=5):\n",
        "        print(self.dataset.head(num))\n",
        "\n",
        "    def shape(self):\n",
        "        return self.dataset.shape\n"
      ],
      "metadata": {
        "id": "gpONfLNvtRNc"
      },
      "execution_count": 60,
      "outputs": []
    },
    {
      "cell_type": "markdown",
      "source": [
        "## Loads data"
      ],
      "metadata": {
        "id": "Yhe-mOFuheJj"
      }
    },
    {
      "cell_type": "code",
      "source": [
        "dataset_path = 'https://raw.githubusercontent.com/ChiuDeYuan/SCAICT_lecture/main/datasets/Housing.csv'\n",
        "\n",
        "dataset_train = HousingPriceDataset(dataset_path, True)     # 定義訓練集\n",
        "dataset_val = HousingPriceDataset(dataset_path, False)      # 定義驗證集"
      ],
      "metadata": {
        "id": "LkDbchmCSKl2"
      },
      "execution_count": 61,
      "outputs": []
    },
    {
      "cell_type": "code",
      "source": [
        "dataset_train.shape()"
      ],
      "metadata": {
        "id": "4wPuw5KKO8NI",
        "colab": {
          "base_uri": "https://localhost:8080/"
        },
        "outputId": "f2c67476-a1aa-4ce1-d259-f3b43aad0da1"
      },
      "execution_count": 62,
      "outputs": [
        {
          "output_type": "execute_result",
          "data": {
            "text/plain": [
              "(485, 13)"
            ]
          },
          "metadata": {},
          "execution_count": 62
        }
      ]
    },
    {
      "cell_type": "code",
      "source": [
        "dataset_val.shape()"
      ],
      "metadata": {
        "id": "pHL_L-U-O_7M",
        "colab": {
          "base_uri": "https://localhost:8080/"
        },
        "outputId": "a72d31f0-3bf6-4277-ab02-41f5835885a8"
      },
      "execution_count": 63,
      "outputs": [
        {
          "output_type": "execute_result",
          "data": {
            "text/plain": [
              "(60, 13)"
            ]
          },
          "metadata": {},
          "execution_count": 63
        }
      ]
    },
    {
      "cell_type": "code",
      "source": [
        "dataset_train.head()"
      ],
      "metadata": {
        "id": "lrJGGPLDU3XT",
        "colab": {
          "base_uri": "https://localhost:8080/"
        },
        "outputId": "1e22498d-3037-4d52-ebfd-94dd746d35b2"
      },
      "execution_count": 64,
      "outputs": [
        {
          "output_type": "stream",
          "name": "stdout",
          "text": [
            "       price   area  bedrooms  bathrooms  stories mainroad guestroom basement  \\\n",
            "239  4585000   4000         3          1        2      yes        no       no   \n",
            "113  6083000   9620         3          1        1      yes        no      yes   \n",
            "325  4007500   3460         4          1        2      yes        no       no   \n",
            "66   6930000  13200         2          1        1      yes        no      yes   \n",
            "479  2940000   3660         4          1        2       no        no       no   \n",
            "\n",
            "    hotwaterheating airconditioning  parking prefarea furnishingstatus  \n",
            "239              no              no        1       no        furnished  \n",
            "113              no              no        2      yes        furnished  \n",
            "325              no             yes        0       no   semi-furnished  \n",
            "66              yes              no        1       no        furnished  \n",
            "479              no              no        0       no      unfurnished  \n"
          ]
        }
      ]
    },
    {
      "cell_type": "markdown",
      "source": [
        "## 選擇特徵"
      ],
      "metadata": {
        "id": "PeAdF9KxhivC"
      }
    },
    {
      "cell_type": "code",
      "source": [
        "# 要用的features\n",
        "support = ['price', 'area', 'bathrooms', 'stories', 'airconditioning', 'parking']\n",
        "\n",
        "dataset_train.select(support)\n",
        "dataset_val.select(support)"
      ],
      "metadata": {
        "id": "BpvPhypsjQhe"
      },
      "execution_count": 65,
      "outputs": []
    },
    {
      "cell_type": "markdown",
      "source": [
        "## 將yes/no轉1/0\n",
        "因為數字才能進行數學運算"
      ],
      "metadata": {
        "id": "O6OOjUVpUnDD"
      }
    },
    {
      "cell_type": "code",
      "source": [
        "# 需要轉換的特徵\n",
        "mapped_var = ['airconditioning']\n",
        "\n",
        "# 定義映射函數\n",
        "def map_func(x):\n",
        "    return x.map({'yes':1 , 'no':0})"
      ],
      "metadata": {
        "id": "a4_bx6oehldS"
      },
      "execution_count": 66,
      "outputs": []
    },
    {
      "cell_type": "code",
      "source": [
        "dataset_train.map_features(mapped_var, map_func)\n",
        "dataset_val.map_features(mapped_var, map_func)"
      ],
      "metadata": {
        "id": "TIHJwBAIMM3b"
      },
      "execution_count": 67,
      "outputs": []
    },
    {
      "cell_type": "code",
      "source": [
        "dataset_train.head()"
      ],
      "metadata": {
        "id": "3XdIgABUjozY",
        "colab": {
          "base_uri": "https://localhost:8080/"
        },
        "outputId": "4a31eed8-92ee-460e-a3c3-2e665d13ae1f"
      },
      "execution_count": 68,
      "outputs": [
        {
          "output_type": "stream",
          "name": "stdout",
          "text": [
            "       price   area  bathrooms  stories  airconditioning  parking\n",
            "239  4585000   4000          1        2                0        1\n",
            "113  6083000   9620          1        1                0        2\n",
            "325  4007500   3460          1        2                1        0\n",
            "66   6930000  13200          1        1                0        1\n",
            "479  2940000   3660          1        2                0        0\n"
          ]
        }
      ]
    },
    {
      "cell_type": "code",
      "source": [
        "dataset_val.head()"
      ],
      "metadata": {
        "id": "0QzOb4VrPQbw",
        "colab": {
          "base_uri": "https://localhost:8080/"
        },
        "outputId": "d9c5b510-38bb-41d8-d9be-249900fabcd7"
      },
      "execution_count": 69,
      "outputs": [
        {
          "output_type": "stream",
          "name": "stdout",
          "text": [
            "       price  area  bathrooms  stories  airconditioning  parking\n",
            "203  4900000  5400          1        2                0        0\n",
            "84   6510000  3760          1        2                0        2\n",
            "426  3353000  2700          1        1                0        0\n",
            "121  5950000  7231          1        2                1        0\n",
            "538  1890000  3649          1        1                0        0\n"
          ]
        }
      ]
    },
    {
      "cell_type": "markdown",
      "source": [
        "## 縮放數據\n",
        "使用sklearn提供的standard scaler<br>\n",
        "standard scaler會將數據減去平均值再除以標準差"
      ],
      "metadata": {
        "id": "MfGceLJ7hq85"
      }
    },
    {
      "cell_type": "code",
      "source": [
        "scaler = StandardScaler()\n",
        "# 也可以試試scaler = MinMaxScaler()將資料縮放至0~1\n",
        "\n",
        "vars = ['area', 'bathrooms', 'stories', 'price', 'parking']"
      ],
      "metadata": {
        "id": "70OpxZtWhulO"
      },
      "execution_count": 70,
      "outputs": []
    },
    {
      "cell_type": "code",
      "source": [
        "dataset_train.scale(scaler, vars)\n",
        "dataset_val.scale(scaler, vars)"
      ],
      "metadata": {
        "id": "rQb3Z6I8QFHM"
      },
      "execution_count": 71,
      "outputs": []
    },
    {
      "cell_type": "code",
      "source": [
        "dataset_train.head()"
      ],
      "metadata": {
        "id": "3TfVX17eDJFA",
        "colab": {
          "base_uri": "https://localhost:8080/"
        },
        "outputId": "8d38187d-4b19-4a05-a604-14cfee268415"
      },
      "execution_count": 72,
      "outputs": [
        {
          "output_type": "stream",
          "name": "stdout",
          "text": [
            "        price      area  bathrooms   stories  airconditioning   parking\n",
            "239 -0.099922 -0.534982  -0.585859  0.234231                0  0.377742\n",
            "113  0.694817  2.021552  -0.585859 -0.936925                0  1.544653\n",
            "325 -0.406305 -0.780628  -0.585859  0.234231                1 -0.789169\n",
            "66   1.144179  3.650092  -0.585859 -0.936925                0  0.377742\n",
            "479 -0.972650 -0.689648  -0.585859  0.234231                0 -0.789169\n"
          ]
        }
      ]
    },
    {
      "cell_type": "code",
      "source": [
        "dataset_val.head()"
      ],
      "metadata": {
        "id": "kJczAzmUhv6g",
        "colab": {
          "base_uri": "https://localhost:8080/"
        },
        "outputId": "7f87e868-9e62-452c-845b-09b7ea3e25b1"
      },
      "execution_count": 73,
      "outputs": [
        {
          "output_type": "stream",
          "name": "stdout",
          "text": [
            "        price      area  bathrooms   stories  airconditioning   parking\n",
            "203  0.107838  0.240488  -0.447214  0.155752                0 -0.948304\n",
            "84   1.037647 -0.625152  -0.447214  0.155752                0  1.327626\n",
            "426 -0.785587 -1.184651  -0.447214 -0.882596                0 -0.948304\n",
            "121  0.714235  1.206943  -0.447214  0.155752                1 -0.948304\n",
            "538 -1.630501 -0.683741  -0.447214 -0.882596                0 -0.948304\n"
          ]
        }
      ]
    },
    {
      "cell_type": "markdown",
      "source": [
        "## Dataloader\n",
        "dataloader是定義模型讀取資料的方式<br>"
      ],
      "metadata": {
        "id": "Cz4Qmn5aF_ZJ"
      }
    },
    {
      "cell_type": "code",
      "source": [
        "# batch_size指定一次更新會看過的資料數量\n",
        "dataloader_train = DataLoader(dataset = dataset_train, batch_size = 16, shuffle = True)\n",
        "dataloader_val = DataLoader(dataset = dataset_val, batch_size = 16)"
      ],
      "metadata": {
        "id": "wiHrJoh6uMUI"
      },
      "execution_count": 74,
      "outputs": []
    },
    {
      "cell_type": "markdown",
      "source": [
        "## Build model\n",
        "pytorch需要定義一個模型類"
      ],
      "metadata": {
        "id": "O4EwJXuTq8Xr"
      }
    },
    {
      "cell_type": "markdown",
      "source": [
        "### 定義模型\n",
        "創建模型類別"
      ],
      "metadata": {
        "id": "XsII2TPDdGCU"
      }
    },
    {
      "cell_type": "code",
      "source": [
        "class Model(nn.Module):\n",
        "\n",
        "    def __init__(self, input_dim, hidden_dim, ouput_dim):\n",
        "        super(Model, self).__init__()   # 初始化繼承自父類(nn.Module)的屬性\n",
        "\n",
        "\n",
        "        # linear層就是全連接層\n",
        "        # 三個參數表示如下:\n",
        "        # torch.nn.Linear(輸入的特徵維度(上一層神經元數量), 輸出的特徵維度(這一層神經元數量), 是否加入常數項(bias))\n",
        "\n",
        "        # input layer\n",
        "        self.linear_1 = torch.nn.Linear(input_dim, input_dim)   # 線性部分(即全連接層)\n",
        "        self.relu_1 = torch.nn.ReLU(inplace=True)   # 在全連接層後再加一層relu\n",
        "\n",
        "        # hidden layer\n",
        "        self.linear_2 = torch.nn.Linear(input_dim, hidden_dim)\n",
        "        self.relu_2 = torch.nn.ReLU(inplace=True)\n",
        "\n",
        "        # output layer\n",
        "        self.linear_3 = torch.nn.Linear(hidden_dim, ouput_dim)\n",
        "        self.relu_3 = torch.nn.ReLU(inplace=True)\n",
        "\n",
        "    def forward(self, x):\n",
        "\n",
        "        # 餵資料\n",
        "        x = self.linear_1(x)\n",
        "        x = self.relu_1(x)\n",
        "        x = self.linear_2(x)\n",
        "        x = self.relu_2(x)\n",
        "        x = self.linear_3(x)\n",
        "        x = self.relu_3(x)\n",
        "\n",
        "        return x"
      ],
      "metadata": {
        "id": "X4rtrDAdrA5j"
      },
      "execution_count": 75,
      "outputs": []
    },
    {
      "cell_type": "code",
      "source": [
        "# 輸入層神經元數由特徵數量決定\n",
        "# 隱藏層神經元數介於輸入層與輸出層間\n",
        "# 輸出層神經元數為 類別數量-1(classification) 或 1(regression)\n",
        "input_dim = 5\n",
        "hidden_dim = 3\n",
        "ouput_dim = 1"
      ],
      "metadata": {
        "id": "8AgWWtZ7YYD_"
      },
      "execution_count": 76,
      "outputs": []
    },
    {
      "cell_type": "code",
      "source": [
        "model = Model(input_dim, hidden_dim, ouput_dim) # 創建模型"
      ],
      "metadata": {
        "id": "Fb9Oyff9E0Kf"
      },
      "execution_count": 77,
      "outputs": []
    },
    {
      "cell_type": "markdown",
      "source": [
        "### 選擇損失函數\n",
        "使用MSE作為loss function"
      ],
      "metadata": {
        "id": "BQcMVM7rCyN3"
      }
    },
    {
      "cell_type": "code",
      "source": [
        "# for training\n",
        "cost = nn.MSELoss()"
      ],
      "metadata": {
        "id": "4U-7QfXp5u0a"
      },
      "execution_count": 78,
      "outputs": []
    },
    {
      "cell_type": "code",
      "source": [
        "# for validation\n",
        "cost_val = nn.MSELoss()"
      ],
      "metadata": {
        "id": "AS2C6rrwWyB8"
      },
      "execution_count": 79,
      "outputs": []
    },
    {
      "cell_type": "markdown",
      "source": [
        "### 設定優化器\n",
        "adam指的是Adaptive Moment Estimation<br>\n",
        "所以adam可視為動量(momentum)和自適應學習率(adaptive learning rate)的結合"
      ],
      "metadata": {
        "id": "jOH3uleuRkGe"
      }
    },
    {
      "cell_type": "code",
      "source": [
        "optimizer = torch.optim.Adam(model.parameters())    # model.parameters()指的是優化目標"
      ],
      "metadata": {
        "id": "Rx0K32WQ7ar6"
      },
      "execution_count": 80,
      "outputs": []
    },
    {
      "cell_type": "markdown",
      "source": [
        "## 訓練模型"
      ],
      "metadata": {
        "id": "dMWFnLZfdpaa"
      }
    },
    {
      "cell_type": "code",
      "source": [
        "# 訓練次數\n",
        "# 30是我隨便指定的(?\n",
        "epoch_num = 30"
      ],
      "metadata": {
        "id": "1ieXArgdY8Om"
      },
      "execution_count": 81,
      "outputs": []
    },
    {
      "cell_type": "code",
      "source": [
        "# 紀錄loss用\n",
        "hist_train = []\n",
        "hist_val = []"
      ],
      "metadata": {
        "id": "NagtdfC1Z5-f"
      },
      "execution_count": 82,
      "outputs": []
    },
    {
      "cell_type": "code",
      "source": [
        "for epoch in range(epoch_num):\n",
        "\n",
        "    loss_train =0\n",
        "    loss_val = 0\n",
        "\n",
        "    for data in dataloader_train:\n",
        "\n",
        "        features, label = data\n",
        "        outputs = model(features)\n",
        "\n",
        "        optimizer.zero_grad()    # 把前次計算梯度歸零\n",
        "        loss = cost(outputs, label)     # 算loss\n",
        "        loss.backward()     # 反向傳播loss\n",
        "        optimizer.step()     # 更新權重\n",
        "\n",
        "        loss_train += loss.data\n",
        "\n",
        "    for data_val in dataloader_val:\n",
        "\n",
        "        features_val, label_val = data_val\n",
        "        prediction = model(features_val)\n",
        "        loss = cost_val(prediction, label_val)\n",
        "        loss_val += loss.data\n",
        "\n",
        "    hist_train.append(loss_train/len(dataloader_train))\n",
        "    hist_val.append(loss_val/len(dataloader_val))\n",
        "\n",
        "    print(f\"[{epoch+1}/{epoch_num}] loss_train:{loss_train/len(dataloader_train)} loss_val:{loss_val/len(dataloader_val)}\")"
      ],
      "metadata": {
        "id": "Zv2rRs4tdty7",
        "colab": {
          "base_uri": "https://localhost:8080/"
        },
        "outputId": "42c8e815-5e70-4da3-81b8-8107c58d4daf"
      },
      "execution_count": 83,
      "outputs": [
        {
          "output_type": "stream",
          "name": "stdout",
          "text": [
            "[1/30] loss_train:0.9390435218811035 loss_val:0.9401813745498657\n",
            "[2/30] loss_train:0.8908385634422302 loss_val:0.9243869185447693\n",
            "[3/30] loss_train:0.9099316000938416 loss_val:0.9093277454376221\n",
            "[4/30] loss_train:0.9031494855880737 loss_val:0.8967853784561157\n",
            "[5/30] loss_train:0.8675193786621094 loss_val:0.884998083114624\n",
            "[6/30] loss_train:0.8545876741409302 loss_val:0.8740482330322266\n",
            "[7/30] loss_train:0.9114968180656433 loss_val:0.864726185798645\n",
            "[8/30] loss_train:0.8368725776672363 loss_val:0.8503628969192505\n",
            "[9/30] loss_train:0.8176792860031128 loss_val:0.8354955911636353\n",
            "[10/30] loss_train:0.8045827150344849 loss_val:0.8142554759979248\n",
            "[11/30] loss_train:0.7809873819351196 loss_val:0.7854546308517456\n",
            "[12/30] loss_train:0.7483446598052979 loss_val:0.7555387020111084\n",
            "[13/30] loss_train:0.7284954190254211 loss_val:0.7194572687149048\n",
            "[14/30] loss_train:0.7169989943504333 loss_val:0.687207043170929\n",
            "[15/30] loss_train:0.7183608412742615 loss_val:0.6595468521118164\n",
            "[16/30] loss_train:0.6822382807731628 loss_val:0.6363544464111328\n",
            "[17/30] loss_train:0.6446653008460999 loss_val:0.6193479299545288\n",
            "[18/30] loss_train:0.6451031565666199 loss_val:0.6042320132255554\n",
            "[19/30] loss_train:0.6330309510231018 loss_val:0.595100998878479\n",
            "[20/30] loss_train:0.6235750913619995 loss_val:0.587198793888092\n",
            "[21/30] loss_train:0.6209920644760132 loss_val:0.5836288928985596\n",
            "[22/30] loss_train:0.6291089057922363 loss_val:0.5842167139053345\n",
            "[23/30] loss_train:0.614363968372345 loss_val:0.5825153589248657\n",
            "[24/30] loss_train:0.6075138449668884 loss_val:0.5815768241882324\n",
            "[25/30] loss_train:0.622589111328125 loss_val:0.5816555023193359\n",
            "[26/30] loss_train:0.6124085783958435 loss_val:0.5795877575874329\n",
            "[27/30] loss_train:0.6037907004356384 loss_val:0.5800864696502686\n",
            "[28/30] loss_train:0.6100876927375793 loss_val:0.5799590349197388\n",
            "[29/30] loss_train:0.6030762195587158 loss_val:0.5797380805015564\n",
            "[30/30] loss_train:0.6073943376541138 loss_val:0.5787336230278015\n"
          ]
        }
      ]
    },
    {
      "cell_type": "markdown",
      "source": [
        "## 畫出loss訓練歷程"
      ],
      "metadata": {
        "id": "RQh2XE6QbXXn"
      }
    },
    {
      "cell_type": "code",
      "source": [
        "plt.plot(hist_train, label='train')\n",
        "plt.plot(hist_val, label='val')\n",
        "plt.legend(loc='upper right')\n",
        "plt.show()"
      ],
      "metadata": {
        "id": "L8YMYvDaZ2e_",
        "colab": {
          "base_uri": "https://localhost:8080/",
          "height": 430
        },
        "outputId": "00e128a5-618d-446c-cc9c-f3567b538049"
      },
      "execution_count": 84,
      "outputs": [
        {
          "output_type": "display_data",
          "data": {
            "text/plain": [
              "<Figure size 640x480 with 1 Axes>"
            ],
            "image/png": "[encoded data removed]"
          },
          "metadata": {}
        }
      ]
    }
  ]
}