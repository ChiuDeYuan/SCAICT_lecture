{
  "nbformat": 4,
  "nbformat_minor": 0,
  "metadata": {
    "colab": {
      "provenance": [],
      "authorship_tag": "ABX9TyNYUcdNLOwQ3Lv/9fOaFUOB"
    },
    "kernelspec": {
      "name": "python3",
      "display_name": "Python 3"
    },
    "language_info": {
      "name": "python"
    }
  },
  "cells": [
    {
      "cell_type": "markdown",
      "source": [
        "# 隨機梯度下降SGD\n",
        "### 中電會三月主題課程(2024/3/23)"
      ],
      "metadata": {
        "id": "E7hV5YlhvqQe"
      }
    },
    {
      "cell_type": "markdown",
      "source": [
        "<table class=\"tfo-notebook-buttons\" align=\"left\">\n",
        "  <td>\n",
        "  <td>\n",
        "    <a target=\"_blank\" href=\"https://colab.research.google.com/github/ChiuDeYuan/SCAICT_lecture/blob/main/0323/housing_price_SGD.ipynb\"><img src=\"https://www.tensorflow.org/images/colab_logo_32px.png\" />Run in Google Colab</a>\n",
        "  </td>\n",
        "  <td>\n",
        "    <a target=\"_blank\" href=\"https://github.com/ChiuDeYuan/SCAICT_lecture/blob/main/0323/housing_price_SGD.ipynb\"><img src=\"https://www.tensorflow.org/images/GitHub-Mark-32px.png\" />View on GitHub</a>\n",
        "  </td>\n",
        "</table>"
      ],
      "metadata": {
        "id": "hvAyvnq4v8Qd"
      }
    },
    {
      "cell_type": "markdown",
      "source": [
        "## Useful links\n",
        "\n",
        "* Housing Prices Dataset : https://www.kaggle.com/datasets/yasserh/housing-prices-dataset\n",
        "* SGD (Scikit-learn) : https://scikit-learn.org/stable/modules/generated/sklearn.linear_model.SGDRegressor.html"
      ],
      "metadata": {
        "id": "7nkyBWxAwFCv"
      }
    },
    {
      "cell_type": "markdown",
      "source": [
        "## Imports\n",
        "使用sklearn建構模型"
      ],
      "metadata": {
        "id": "rf020EPQ2_DU"
      }
    },
    {
      "cell_type": "code",
      "execution_count": null,
      "metadata": {
        "id": "lqFmymCrL0gG"
      },
      "outputs": [],
      "source": [
        "# sklearn\n",
        "from sklearn import linear_model\n",
        "from sklearn.metrics import r2_score\n",
        "from sklearn.utils import shuffle\n",
        "from sklearn.linear_model import SGDRegressor\n",
        "from sklearn.preprocessing import StandardScaler"
      ]
    },
    {
      "cell_type": "code",
      "source": [
        "# 畫圖用\n",
        "import matplotlib.pyplot as plt\n",
        "\n",
        "# 數學運算相關\n",
        "import numpy as np\n",
        "\n",
        "# 讀取資料相關\n",
        "import pandas as pd"
      ],
      "metadata": {
        "id": "eG4VkNUmMFJi"
      },
      "execution_count": null,
      "outputs": []
    },
    {
      "cell_type": "markdown",
      "source": [
        "## Loads data"
      ],
      "metadata": {
        "id": "DJjr8rOS3Fo0"
      }
    },
    {
      "cell_type": "code",
      "source": [
        "dataset_path = 'https://raw.githubusercontent.com/ChiuDeYuan/SCAICT_lecture/main/datasets/Housing.csv'\n",
        "dataset = pd.read_csv(dataset_path)"
      ],
      "metadata": {
        "id": "OE6x3J_S3I0e"
      },
      "execution_count": null,
      "outputs": []
    },
    {
      "cell_type": "code",
      "source": [
        "# 顯示前幾筆資料\n",
        "dataset.head()"
      ],
      "metadata": {
        "id": "eSfQE61L3KhM"
      },
      "execution_count": null,
      "outputs": []
    },
    {
      "cell_type": "code",
      "source": [
        "# 查看資料集形狀\n",
        "dataset.shape"
      ],
      "metadata": {
        "id": "-D4ONayv3LfW"
      },
      "execution_count": null,
      "outputs": []
    },
    {
      "cell_type": "markdown",
      "source": [
        "## 縮放數據\n",
        "使用sklearn提供的standard scaler<br>\n",
        "standard scaler會將數據減去平均值再除以標準差"
      ],
      "metadata": {
        "id": "hqgRfcxd3OAo"
      }
    },
    {
      "cell_type": "code",
      "source": [
        "# 定義scaler\n",
        "scaler = StandardScaler()\n",
        "\n",
        "# 選擇欲縮放數據\n",
        "vars = ['area', 'price']"
      ],
      "metadata": {
        "id": "skAizaR23Thz"
      },
      "execution_count": null,
      "outputs": []
    },
    {
      "cell_type": "code",
      "source": [
        "dataset[vars] = scaler.fit_transform(dataset[vars])"
      ],
      "metadata": {
        "id": "XjBKjMe19jOd"
      },
      "execution_count": null,
      "outputs": []
    },
    {
      "cell_type": "code",
      "source": [
        "dataset.head()"
      ],
      "metadata": {
        "id": "NBCF5Z6C3VS3"
      },
      "execution_count": null,
      "outputs": []
    },
    {
      "cell_type": "markdown",
      "source": [
        "## 查看資料分布狀況"
      ],
      "metadata": {
        "id": "iXR8DiNL3dFz"
      }
    },
    {
      "cell_type": "code",
      "source": [
        "dataset_x = dataset[['area']]\n",
        "dataset_y = dataset[['price']]"
      ],
      "metadata": {
        "id": "LJeV1Och3Wsa"
      },
      "execution_count": null,
      "outputs": []
    },
    {
      "cell_type": "code",
      "source": [
        "# 畫圖\n",
        "plt.xlabel(\"area\")\n",
        "plt.ylabel(\"price\")\n",
        "plt.plot(dataset_x, dataset_y, '.')"
      ],
      "metadata": {
        "id": "1kPmy4Zu7qRs"
      },
      "execution_count": null,
      "outputs": []
    },
    {
      "cell_type": "markdown",
      "source": [
        "## 分割資料集"
      ],
      "metadata": {
        "id": "55n2lEWa9jcO"
      }
    },
    {
      "cell_type": "code",
      "source": [
        "# 先打亂\n",
        "dataset_x, dataset_y = shuffle(dataset_x, dataset_y, random_state=0)"
      ],
      "metadata": {
        "id": "ZKtu5K-E9mza"
      },
      "execution_count": null,
      "outputs": []
    },
    {
      "cell_type": "code",
      "source": [
        "# 取後30筆資料做測試集\n",
        "# 其餘為訓練集\n",
        "dataset_x_train = dataset_x[:-30]\n",
        "dataset_x_test = dataset_x[-30:]\n",
        "\n",
        "dataset_y_train = dataset_y[:-30]\n",
        "dataset_y_test = dataset_y[-30:]"
      ],
      "metadata": {
        "id": "tYLDxQ959nfR"
      },
      "execution_count": null,
      "outputs": []
    },
    {
      "cell_type": "code",
      "source": [
        "# 查看訓練集和測試集的形狀\n",
        "print(f\"{dataset_x_train.shape}\\n{dataset_x_test.shape}\")"
      ],
      "metadata": {
        "id": "MopkSWAv9pwe"
      },
      "execution_count": null,
      "outputs": []
    },
    {
      "cell_type": "markdown",
      "source": [
        "## 定義模型\n",
        "使用隨機梯度下降法(SGD)更新權重<br>\n",
        "loss function選擇squared error<br>\n",
        "學習率為自適應調整(adagrad)<br>\n",
        "意思學習率會隨著訓練次數而降低<br>\n",
        "這樣可以增加訓練效率和精準度"
      ],
      "metadata": {
        "id": "q0QR_RM4-J0P"
      }
    },
    {
      "cell_type": "code",
      "source": [
        "sgd = SGDRegressor(loss='squared_error', learning_rate='adaptive')"
      ],
      "metadata": {
        "id": "5BtOPYdm4_7H"
      },
      "execution_count": null,
      "outputs": []
    },
    {
      "cell_type": "markdown",
      "source": [
        "## 訓練模型"
      ],
      "metadata": {
        "id": "HcWlnzbT49Ip"
      }
    },
    {
      "cell_type": "code",
      "source": [
        "sgd.fit(dataset_x_train, dataset_y_train)"
      ],
      "metadata": {
        "id": "ySHpkuCDDK0Q"
      },
      "execution_count": null,
      "outputs": []
    },
    {
      "cell_type": "markdown",
      "source": [
        "## 預測&評估"
      ],
      "metadata": {
        "id": "UWfhMzc7DtaR"
      }
    },
    {
      "cell_type": "code",
      "source": [
        "prediction = sgd.predict(dataset_x_test)"
      ],
      "metadata": {
        "id": "2dQDhdUvD8ud"
      },
      "execution_count": null,
      "outputs": []
    },
    {
      "cell_type": "markdown",
      "source": [
        "r2 score越高越好<br>\n",
        "公式就不放上來了"
      ],
      "metadata": {
        "id": "HJyUgr4z-5bm"
      }
    },
    {
      "cell_type": "code",
      "source": [
        "# 計算測試集的r2 score\n",
        "r2_score(dataset_y_test, prediction)"
      ],
      "metadata": {
        "id": "OjXDrBojEV3-"
      },
      "execution_count": null,
      "outputs": []
    },
    {
      "cell_type": "markdown",
      "source": [
        "## 畫出迴歸直線"
      ],
      "metadata": {
        "id": "E3X4lZ4_-9ZP"
      }
    },
    {
      "cell_type": "code",
      "source": [
        "plt.scatter(dataset_x_test['area'], dataset_y_test, color=\"black\")\n",
        "plt.plot(dataset_x_test['area'], prediction, color=\"blue\")\n",
        "plt.show()"
      ],
      "metadata": {
        "id": "yT53zVoQEKUi"
      },
      "execution_count": null,
      "outputs": []
    }
  ]
}