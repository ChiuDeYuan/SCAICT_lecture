{
  "nbformat": 4,
  "nbformat_minor": 0,
  "metadata": {
    "colab": {
      "provenance": [],
      "authorship_tag": "ABX9TyMOMFPphhVy7bk5BuZZIwFn"
    },
    "kernelspec": {
      "name": "python3",
      "display_name": "Python 3"
    },
    "language_info": {
      "name": "python"
    }
  },
  "cells": [
    {
      "cell_type": "markdown",
      "source": [
        "# 多元線性迴歸MLR\n",
        "### 中電會三月主題課程(2024/3/23)"
      ],
      "metadata": {
        "id": "XtKCWn25TeAj"
      }
    },
    {
      "cell_type": "markdown",
      "source": [
        "<table class=\"tfo-notebook-buttons\" align=\"left\">\n",
        "  <td>\n",
        "  <td>\n",
        "    <a target=\"_blank\" href=\"https://colab.research.google.com/github/ChiuDeYuan/SCAICT_lecture/blob/main/0323/housing_price_MLR.ipynb\"><img src=\"https://www.tensorflow.org/images/colab_logo_32px.png\" />Run in Google Colab</a>\n",
        "  </td>\n",
        "  <td>\n",
        "    <a target=\"_blank\" href=\"https://github.com/ChiuDeYuan/SCAICT_lecture/blob/main/0323/housing_price_MLR.ipynb\"><img src=\"https://www.tensorflow.org/images/GitHub-Mark-32px.png\" />View on GitHub</a>\n",
        "  </td>\n",
        "</table>"
      ],
      "metadata": {
        "id": "5lEMv_ZRTouH"
      }
    },
    {
      "cell_type": "markdown",
      "source": [
        "## Useful links\n",
        "\n",
        "* Housing Prices Dataset : https://www.kaggle.com/datasets/yasserh/housing-prices-dataset\n",
        "* Linear Models (Scikit-learn) : https://scikit-learn.org/stable/modules/linear_model.html"
      ],
      "metadata": {
        "id": "S5p8ecIJzRCw"
      }
    },
    {
      "cell_type": "markdown",
      "source": [
        "## Imports\n",
        "使用sklearn和statsmodels建構模型"
      ],
      "metadata": {
        "id": "HG2HpdT-Ue4Z"
      }
    },
    {
      "cell_type": "code",
      "execution_count": null,
      "metadata": {
        "id": "v7Kto9qCPGQ_"
      },
      "outputs": [],
      "source": [
        "# sklean\n",
        "from sklearn import linear_model\n",
        "from sklearn.metrics import r2_score\n",
        "from sklearn.utils import shuffle\n",
        "from sklearn.feature_selection import RFE\n",
        "from sklearn.preprocessing import StandardScaler"
      ]
    },
    {
      "cell_type": "code",
      "source": [
        "# statsmodels\n",
        "import statsmodels.api as sm"
      ],
      "metadata": {
        "id": "UxzloMZHcMtM"
      },
      "execution_count": null,
      "outputs": []
    },
    {
      "cell_type": "code",
      "source": [
        "# 畫圖用\n",
        "import matplotlib.pyplot as plt\n",
        "\n",
        "# 跟數學運算相關\n",
        "import numpy as np\n",
        "\n",
        "# 讀取資料相關\n",
        "import pandas as pd\n",
        "\n",
        "# 畫圖用\n",
        "import seaborn as sns"
      ],
      "metadata": {
        "id": "FIDSumF6WZ4C"
      },
      "execution_count": null,
      "outputs": []
    },
    {
      "cell_type": "markdown",
      "source": [
        "## Loads data"
      ],
      "metadata": {
        "id": "uguOE2FJUj4Z"
      }
    },
    {
      "cell_type": "code",
      "source": [
        "dataset_path = 'https://raw.githubusercontent.com/ChiuDeYuan/SCAICT_lecture/main/datasets/Housing.csv'\n",
        "dataset = pd.read_csv(dataset_path)"
      ],
      "metadata": {
        "id": "E9DjVwYfWdHJ"
      },
      "execution_count": null,
      "outputs": []
    },
    {
      "cell_type": "code",
      "source": [
        "# 顯示前幾筆資料\n",
        "dataset.head()"
      ],
      "metadata": {
        "id": "9Q5fYWRzWdaN"
      },
      "execution_count": null,
      "outputs": []
    },
    {
      "cell_type": "code",
      "source": [
        "# 查看資料集形狀\n",
        "dataset.shape"
      ],
      "metadata": {
        "id": "Z1HbiTqvWg5v"
      },
      "execution_count": null,
      "outputs": []
    },
    {
      "cell_type": "markdown",
      "source": [
        "## 將yes/no轉0/1\n",
        "因為數字才能進行數學運算"
      ],
      "metadata": {
        "id": "c9lRpenTUuDL"
      }
    },
    {
      "cell_type": "code",
      "source": [
        "# 選擇要轉換的特徵\n",
        "mapped_var = ['mainroad', 'guestroom', 'basement', 'hotwaterheating', 'airconditioning', 'prefarea']\n",
        "\n",
        "# 定義轉換方式\n",
        "def map_func(x):\n",
        "    return x.map({'yes':1 , 'no':0})"
      ],
      "metadata": {
        "id": "Uh-yU7cxYSOj"
      },
      "execution_count": null,
      "outputs": []
    },
    {
      "cell_type": "code",
      "source": [
        "dataset[mapped_var] = dataset[mapped_var].apply(map_func)"
      ],
      "metadata": {
        "id": "eiDy2IEyP4ew"
      },
      "execution_count": null,
      "outputs": []
    },
    {
      "cell_type": "markdown",
      "source": [
        "## 刪掉特徵furnishstatus\n",
        "因為這還要涉及到one-hot encoding有點麻煩"
      ],
      "metadata": {
        "id": "NzasysuLP5jN"
      }
    },
    {
      "cell_type": "code",
      "source": [
        "dataset = dataset.drop('furnishingstatus', axis=1)"
      ],
      "metadata": {
        "id": "KLJJXCm4YS6T"
      },
      "execution_count": null,
      "outputs": []
    },
    {
      "cell_type": "code",
      "source": [
        "dataset.head()"
      ],
      "metadata": {
        "id": "boKu1_elYS4X"
      },
      "execution_count": null,
      "outputs": []
    },
    {
      "cell_type": "markdown",
      "source": [
        "## 縮放數據\n",
        "使用sklearn提供的standard scaler<br>\n",
        "standard scaler會將數據減去平均值再除以標準差<br><br>\n",
        "順帶一提<br>\n",
        "其實訓練集和測試集要分開做縮放數據<br>\n",
        "因為這兩個資料集應該要是獨立的<br>\n",
        "但是我懶得再分所以就混在一起吧╮(╯▽╰)╭"
      ],
      "metadata": {
        "id": "Vy5NMl8xUyGO"
      }
    },
    {
      "cell_type": "code",
      "source": [
        "# 定義scaler\n",
        "scaler = StandardScaler()\n",
        "\n",
        "# 選擇要縮放的數據\n",
        "vars = ['area', 'bedrooms', 'bathrooms', 'stories', 'parking', 'price']"
      ],
      "metadata": {
        "id": "3yIWMb9LYhVJ"
      },
      "execution_count": null,
      "outputs": []
    },
    {
      "cell_type": "code",
      "source": [
        "dataset[vars] = scaler.fit_transform(dataset[vars])"
      ],
      "metadata": {
        "id": "DswywfG_RGc7"
      },
      "execution_count": null,
      "outputs": []
    },
    {
      "cell_type": "code",
      "source": [
        "dataset.head()"
      ],
      "metadata": {
        "id": "q_qb8ebVYkBq"
      },
      "execution_count": null,
      "outputs": []
    },
    {
      "cell_type": "code",
      "source": [
        "# 一些統計結果\n",
        "dataset.describe()"
      ],
      "metadata": {
        "id": "7kOKVCTqYkg1"
      },
      "execution_count": null,
      "outputs": []
    },
    {
      "cell_type": "markdown",
      "source": [
        "## 篩選特徵\n",
        "因為特徵很多<br>\n",
        "所以要刪去比較不重要的特徵<br>\n",
        "避免模型受到干擾"
      ],
      "metadata": {
        "id": "2_i-bUEgU5sI"
      }
    },
    {
      "cell_type": "markdown",
      "source": [
        "### heatmap\n",
        "畫出每種特徵間的相關係數"
      ],
      "metadata": {
        "id": "pY6RJF9VSF3h"
      }
    },
    {
      "cell_type": "code",
      "source": [
        "plt.figure(figsize = (8, 5))\n",
        "sns.heatmap(dataset.corr(), annot = True, cmap=\"PuBuGn\")\n",
        "plt.show()"
      ],
      "metadata": {
        "id": "mymn-ikZYmB7"
      },
      "execution_count": null,
      "outputs": []
    },
    {
      "cell_type": "markdown",
      "source": [
        "### RFE篩選特徵\n",
        "RFE是先訓練一個線性模型<br>\n",
        "接著把迴歸係數最小的特徵刪去後重新訓練<br>\n",
        "最後可以得到n個最重要的特徵"
      ],
      "metadata": {
        "id": "wMatGWKlSQE2"
      }
    },
    {
      "cell_type": "code",
      "source": [
        "# 把labels和features分離\n",
        "dataset_y = dataset.pop('price')\n",
        "dataset_x = dataset"
      ],
      "metadata": {
        "id": "BgKoIxi7bRYt"
      },
      "execution_count": null,
      "outputs": []
    },
    {
      "cell_type": "code",
      "source": [
        "# 定義線性模型\n",
        "reg = linear_model.LinearRegression(fit_intercept = True)"
      ],
      "metadata": {
        "id": "cynhpGvnbU5L"
      },
      "execution_count": null,
      "outputs": []
    },
    {
      "cell_type": "code",
      "source": [
        "# 使用RFE\n",
        "# 設定篩出前5個最重要的特徵\n",
        "rfe = RFE(reg, n_features_to_select=5)\n",
        "rfe = rfe.fit(dataset_x, dataset_y)"
      ],
      "metadata": {
        "id": "brNmRzaLbY4D"
      },
      "execution_count": null,
      "outputs": []
    },
    {
      "cell_type": "code",
      "source": [
        "# 特徵名稱/是否有被選中/重要性排名\n",
        "list(zip(dataset_x.columns, rfe.support_, rfe.ranking_))"
      ],
      "metadata": {
        "id": "DGdAPk8nbfIq"
      },
      "execution_count": null,
      "outputs": []
    },
    {
      "cell_type": "code",
      "source": [
        "col = dataset_x.columns[rfe.support_]\n",
        "col"
      ],
      "metadata": {
        "id": "q8DfFb9ebkAY"
      },
      "execution_count": null,
      "outputs": []
    },
    {
      "cell_type": "code",
      "source": [
        "# 只留下有被選中的特徵\n",
        "dataset_x = dataset_x[col]"
      ],
      "metadata": {
        "id": "eLfREQ-Pblbe"
      },
      "execution_count": null,
      "outputs": []
    },
    {
      "cell_type": "code",
      "source": [
        "dataset_x.head()"
      ],
      "metadata": {
        "id": "4bfAxZoShB90"
      },
      "execution_count": null,
      "outputs": []
    },
    {
      "cell_type": "markdown",
      "source": [
        "## 加入常數項\n",
        "線性模型是因為$x_0=1$才有$\\theta_0$作為常數項<br>\n",
        "所以每筆資料都要加入一個1作為$x_0$"
      ],
      "metadata": {
        "id": "mKiI_DNfU49z"
      }
    },
    {
      "cell_type": "code",
      "source": [
        "dataset_x = sm.add_constant(dataset_x)"
      ],
      "metadata": {
        "id": "YlaeaMumcVXg"
      },
      "execution_count": null,
      "outputs": []
    },
    {
      "cell_type": "markdown",
      "source": [
        "## 分割資料集\n",
        "把資料集分成訓練集和測試集"
      ],
      "metadata": {
        "id": "nUh9zvmxU-Wr"
      }
    },
    {
      "cell_type": "code",
      "source": [
        "# 先打亂\n",
        "dataset_x, dataset_y = shuffle(dataset_x, dataset_y, random_state=0)"
      ],
      "metadata": {
        "id": "knlUs0-Gw7Cp"
      },
      "execution_count": null,
      "outputs": []
    },
    {
      "cell_type": "code",
      "source": [
        "# 將後30筆資料做為測試集\n",
        "#\n",
        "dataset_x_train = dataset_x[:-30]\n",
        "dataset_x_test = dataset_x[-30:]\n",
        "\n",
        "dataset_y_train = dataset_y[:-30]\n",
        "dataset_y_test = dataset_y[-30:]"
      ],
      "metadata": {
        "id": "2mael0s-fLzg"
      },
      "execution_count": null,
      "outputs": []
    },
    {
      "cell_type": "code",
      "source": [
        "print(f\"{dataset_x_train.shape}\\n{dataset_x_test.shape}\")"
      ],
      "metadata": {
        "id": "XQTX08aDfMGG"
      },
      "execution_count": null,
      "outputs": []
    },
    {
      "cell_type": "markdown",
      "source": [
        "## 訓練模型"
      ],
      "metadata": {
        "id": "4yOlqsyuVJPj"
      }
    },
    {
      "cell_type": "code",
      "source": [
        "reg = sm.OLS(dataset_y_train,dataset_x_train).fit()"
      ],
      "metadata": {
        "id": "HpARvlUJfQpS"
      },
      "execution_count": null,
      "outputs": []
    },
    {
      "cell_type": "markdown",
      "source": [
        "## 預測&評估"
      ],
      "metadata": {
        "id": "qZYhgkrkVPRd"
      }
    },
    {
      "cell_type": "code",
      "source": [
        "print(reg.summary())"
      ],
      "metadata": {
        "id": "2Hipz7o0fXzD"
      },
      "execution_count": null,
      "outputs": []
    },
    {
      "cell_type": "code",
      "source": [
        "prediction = reg.predict(dataset_x_test)"
      ],
      "metadata": {
        "id": "ZVi4vbqofZiv"
      },
      "execution_count": null,
      "outputs": []
    },
    {
      "cell_type": "markdown",
      "source": [
        "r2 score越高代表模型越符合資料"
      ],
      "metadata": {
        "id": "XCftrjhK0mgm"
      }
    },
    {
      "cell_type": "code",
      "source": [
        "r2_score(dataset_y_test, prediction)"
      ],
      "metadata": {
        "id": "CGX4TZvWfbN9"
      },
      "execution_count": null,
      "outputs": []
    }
  ]
}