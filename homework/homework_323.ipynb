{
  "nbformat": 4,
  "nbformat_minor": 0,
  "metadata": {
    "colab": {
      "provenance": [],
      "authorship_tag": "ABX9TyNWVF6p8uG8Knhm5IaUgydJ"
    },
    "kernelspec": {
      "name": "python3",
      "display_name": "Python 3"
    },
    "language_info": {
      "name": "python"
    }
  },
  "cells": [
    {
      "cell_type": "markdown",
      "source": [
        "# 回家作業解答\n",
        "### 中電會三月主題課程(2024/3/23)"
      ],
      "metadata": {
        "id": "2oWwOyBMJWuj"
      }
    },
    {
      "cell_type": "markdown",
      "source": [
        "<table class=\"tfo-notebook-buttons\" align=\"left\">\n",
        "  <td>\n",
        "  <td>\n",
        "    <a target=\"_blank\" href=\"https://colab.research.google.com/github/ChiuDeYuan/linear_regression_example/blob/main/homework/homework_323.ipynb\"><img src=\"https://www.tensorflow.org/images/colab_logo_32px.png\" />Run in Google Colab</a>\n",
        "  </td>\n",
        "  <td>\n",
        "    <a target=\"_blank\" href=\"https://github.com/ChiuDeYuan/linear_regression_example/blob/main/homework/homework_323.ipynb\"><img src=\"https://www.tensorflow.org/images/GitHub-Mark-32px.png\" />View on GitHub</a>\n",
        "  </td>\n",
        "</table>"
      ],
      "metadata": {
        "id": "tOFpe0eOJhxY"
      }
    },
    {
      "cell_type": "markdown",
      "source": [
        "## Useful links\n",
        "\n",
        "* Diabetes Dataset : https://www.kaggle.com/datasets/mathchi/diabetes-data-set?resource=download\n",
        "* Linear Models (Scikit-learn) : https://scikit-learn.org/stable/modules/linear_model.html\n",
        "* SGD (Scikit-learn) : https://scikit-learn.org/stable/modules/generated/sklearn.linear_model.SGDRegressor.html\n",
        "* Slides : https://hackmd.io/@ChiuChiuCircle/r1z3T_G0p"
      ],
      "metadata": {
        "id": "o_YQK4u0Jw5o"
      }
    },
    {
      "cell_type": "markdown",
      "source": [
        "## Imports"
      ],
      "metadata": {
        "id": "HtbaSzUbKjPX"
      }
    },
    {
      "cell_type": "code",
      "execution_count": 1,
      "metadata": {
        "id": "Mi5Jin6XJL4y"
      },
      "outputs": [],
      "source": [
        "from sklearn import linear_model\n",
        "from sklearn.metrics import r2_score\n",
        "from sklearn.utils import shuffle\n",
        "from sklearn.feature_selection import RFE\n",
        "from sklearn.preprocessing import StandardScaler"
      ]
    },
    {
      "cell_type": "code",
      "source": [
        "import statsmodels.api as sm"
      ],
      "metadata": {
        "id": "3CbqFc4KKm3L"
      },
      "execution_count": 2,
      "outputs": []
    },
    {
      "cell_type": "code",
      "source": [
        "import matplotlib.pyplot as plt\n",
        "import numpy as np\n",
        "import pandas as pd\n",
        "import seaborn as sns"
      ],
      "metadata": {
        "id": "SXxRoN_EKpfF"
      },
      "execution_count": 3,
      "outputs": []
    },
    {
      "cell_type": "markdown",
      "source": [
        "## Loads data"
      ],
      "metadata": {
        "id": "CD-DUPVeKrNH"
      }
    },
    {
      "cell_type": "code",
      "source": [
        "dataset_path = 'https://raw.githubusercontent.com/ChiuDeYuan/linear_regression_example/main/homework/diabetes.csv'\n",
        "dataset = pd.read_csv(dataset_path)"
      ],
      "metadata": {
        "id": "ULDwItogKtTB"
      },
      "execution_count": 4,
      "outputs": []
    },
    {
      "cell_type": "code",
      "source": [
        "dataset.head()"
      ],
      "metadata": {
        "id": "2NFy49dsK4ov"
      },
      "execution_count": null,
      "outputs": []
    },
    {
      "cell_type": "code",
      "source": [
        "dataset.shape"
      ],
      "metadata": {
        "id": "c2otZK1kK5BB"
      },
      "execution_count": null,
      "outputs": []
    },
    {
      "cell_type": "markdown",
      "source": [
        "## 縮放數據"
      ],
      "metadata": {
        "id": "s4aFhFnxK7xJ"
      }
    },
    {
      "cell_type": "code",
      "source": [
        "scaler = StandardScaler()\n",
        "\n",
        "vars = ['Pregnancies', 'Glucose', 'BloodPressure', 'SkinThickness', 'Insulin', 'BMI', 'DiabetesPedigreeFunction', 'Age']\n",
        "dataset[vars] = scaler.fit_transform(dataset[vars])"
      ],
      "metadata": {
        "id": "cLm9pisvLcja"
      },
      "execution_count": 7,
      "outputs": []
    },
    {
      "cell_type": "code",
      "source": [
        "dataset.head()"
      ],
      "metadata": {
        "id": "Z5C663mgMamf"
      },
      "execution_count": null,
      "outputs": []
    },
    {
      "cell_type": "code",
      "source": [
        "dataset.describe()"
      ],
      "metadata": {
        "id": "Cf86iqNbMa9f"
      },
      "execution_count": null,
      "outputs": []
    },
    {
      "cell_type": "markdown",
      "source": [
        "## 篩選特徵"
      ],
      "metadata": {
        "id": "srkmJmAXMnVv"
      }
    },
    {
      "cell_type": "code",
      "source": [
        "plt.figure(figsize = (8, 5))\n",
        "sns.heatmap(dataset.corr(), annot = True, cmap=\"PuBuGn\")\n",
        "plt.show()"
      ],
      "metadata": {
        "id": "ZeBVnc6TMrMS"
      },
      "execution_count": null,
      "outputs": []
    },
    {
      "cell_type": "code",
      "source": [
        "dataset_y = dataset.pop('Outcome')\n",
        "dataset_x = dataset"
      ],
      "metadata": {
        "id": "jAshOov5Ms0p"
      },
      "execution_count": 11,
      "outputs": []
    },
    {
      "cell_type": "code",
      "source": [
        "reg = linear_model.LinearRegression(fit_intercept = True)"
      ],
      "metadata": {
        "id": "hefQxdJcMuSz"
      },
      "execution_count": 12,
      "outputs": []
    },
    {
      "cell_type": "code",
      "source": [
        "rfe = RFE(reg, n_features_to_select=1)\n",
        "rfe = rfe.fit(dataset_x, dataset_y)"
      ],
      "metadata": {
        "id": "26Fe8RX0M9em"
      },
      "execution_count": 13,
      "outputs": []
    },
    {
      "cell_type": "code",
      "source": [
        "list(zip(dataset_x.columns, rfe.support_, rfe.ranking_))"
      ],
      "metadata": {
        "id": "7yCvQSUHNC-i"
      },
      "execution_count": null,
      "outputs": []
    },
    {
      "cell_type": "code",
      "source": [
        "col = dataset_x.columns[rfe.support_]\n",
        "col"
      ],
      "metadata": {
        "id": "Yatlgg_LNERR"
      },
      "execution_count": null,
      "outputs": []
    },
    {
      "cell_type": "code",
      "source": [
        "dataset_x = dataset_x[col]"
      ],
      "metadata": {
        "id": "pFtCPsIcNF4Q"
      },
      "execution_count": 16,
      "outputs": []
    },
    {
      "cell_type": "code",
      "source": [
        "dataset_x = sm.add_constant(dataset_x)"
      ],
      "metadata": {
        "id": "CV9Lri-0NKp0"
      },
      "execution_count": 17,
      "outputs": []
    },
    {
      "cell_type": "code",
      "source": [
        "dataset_x.head()"
      ],
      "metadata": {
        "id": "OMx6iUldNL_e"
      },
      "execution_count": null,
      "outputs": []
    },
    {
      "cell_type": "markdown",
      "source": [
        "## 分割資料集"
      ],
      "metadata": {
        "id": "Gk4q-FRjNQS_"
      }
    },
    {
      "cell_type": "code",
      "source": [
        "dataset_x, dataset_y = shuffle(dataset_x, dataset_y, random_state=0)"
      ],
      "metadata": {
        "id": "1uy4ORkNNPXW"
      },
      "execution_count": 20,
      "outputs": []
    },
    {
      "cell_type": "code",
      "source": [
        "dataset_x_train = dataset_x[:-30]\n",
        "dataset_x_test = dataset_x[-30:]\n",
        "\n",
        "dataset_y_train = dataset_y[:-30]\n",
        "dataset_y_test = dataset_y[-30:]"
      ],
      "metadata": {
        "id": "TiecMOucNUON"
      },
      "execution_count": 21,
      "outputs": []
    },
    {
      "cell_type": "code",
      "source": [
        "print(f\"{dataset_x_train.shape}\\n{dataset_x_test.shape}\")"
      ],
      "metadata": {
        "id": "j6s8EM0uNW_2"
      },
      "execution_count": null,
      "outputs": []
    },
    {
      "cell_type": "markdown",
      "source": [
        "## 訓練模型"
      ],
      "metadata": {
        "id": "wZ03eVZ_NSrT"
      }
    },
    {
      "cell_type": "code",
      "source": [
        "reg = sm.OLS(dataset_y_train,dataset_x_train).fit()"
      ],
      "metadata": {
        "id": "T07L6fr3Na73"
      },
      "execution_count": 23,
      "outputs": []
    },
    {
      "cell_type": "markdown",
      "source": [
        "## 預測&評估"
      ],
      "metadata": {
        "id": "UCWXsaM9Nfv9"
      }
    },
    {
      "cell_type": "code",
      "source": [
        "print(reg.summary())"
      ],
      "metadata": {
        "id": "XRyEadEqNd60"
      },
      "execution_count": null,
      "outputs": []
    },
    {
      "cell_type": "code",
      "source": [
        "prediction = reg.predict(dataset_x_test)"
      ],
      "metadata": {
        "id": "sUFFVEoNNk0B"
      },
      "execution_count": 25,
      "outputs": []
    },
    {
      "cell_type": "code",
      "source": [
        "plt.scatter(dataset_x_test['Glucose'], dataset_y_test, color=\"black\")\n",
        "plt.plot(dataset_x_test['Glucose'], prediction, color=\"blue\")\n",
        "plt.show()"
      ],
      "metadata": {
        "id": "9_NpqXnBNozj"
      },
      "execution_count": null,
      "outputs": []
    },
    {
      "cell_type": "markdown",
      "source": [
        "## 結語 : 其實迴歸也可以做二元分類\n",
        "## 但有更好的作法-----logistic regression (用sigmoid進行二元分類)"
      ],
      "metadata": {
        "id": "d9VsGJeDN1bt"
      }
    }
  ]
}