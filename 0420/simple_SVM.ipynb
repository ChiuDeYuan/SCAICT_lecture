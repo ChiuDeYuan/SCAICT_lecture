{
  "nbformat": 4,
  "nbformat_minor": 0,
  "metadata": {
    "colab": {
      "provenance": [],
      "authorship_tag": "ABX9TyP/Y2FZ6s/s5Y0JgRRPhFdp"
    },
    "kernelspec": {
      "name": "python3",
      "display_name": "Python 3"
    },
    "language_info": {
      "name": "python"
    }
  },
  "cells": [
    {
      "cell_type": "markdown",
      "source": [
        "# 支持向量機SVM\n",
        "### 中電會四月主題課程(2024/4/20)"
      ],
      "metadata": {
        "id": "qjyLVK3LjdFv"
      }
    },
    {
      "cell_type": "markdown",
      "source": [
        "<table class=\"tfo-notebook-buttons\" align=\"left\">\n",
        "  <td>\n",
        "  <td>\n",
        "    <a target=\"_blank\" href=\"https://colab.research.google.com/github/ChiuDeYuan/SCAICT_lecture/blob/main/0420/simple_SVM.ipynb\"><img src=\"https://www.tensorflow.org/images/colab_logo_32px.png\" />Run in Google Colab</a>\n",
        "  </td>\n",
        "  <td>\n",
        "    <a target=\"_blank\" href=\"https://github.com/ChiuDeYuan/SCAICT_lecture/blob/main/0420/simple_SVM.ipynb\"><img src=\"https://www.tensorflow.org/images/GitHub-Mark-32px.png\" />View on GitHub</a>\n",
        "  </td>\n",
        "</table>"
      ],
      "metadata": {
        "id": "dXrgV-tnl9Y_"
      }
    },
    {
      "cell_type": "markdown",
      "source": [
        "## Useful links\n",
        "\n",
        "* Generate Dataset : https://scikit-learn.org/stable/modules/generated/sklearn.datasets.make_classification.html\n",
        "* SVM : https://scikit-learn.org/stable/modules/svm.html"
      ],
      "metadata": {
        "id": "17-iJnOQmAoD"
      }
    },
    {
      "cell_type": "markdown",
      "source": [
        "## Imports"
      ],
      "metadata": {
        "id": "GnzeEofMmGKp"
      }
    },
    {
      "cell_type": "code",
      "execution_count": null,
      "metadata": {
        "id": "Izds-NagGpXe"
      },
      "outputs": [],
      "source": [
        "# sklean\n",
        "from sklearn import svm\n",
        "from sklearn.datasets import make_classification"
      ]
    },
    {
      "cell_type": "code",
      "source": [
        "# 畫圖用\n",
        "import matplotlib.pyplot as plt\n",
        "\n",
        "# 跟數學運算相關\n",
        "import numpy as np"
      ],
      "metadata": {
        "id": "Amo5qlmtmOqu"
      },
      "execution_count": null,
      "outputs": []
    },
    {
      "cell_type": "markdown",
      "source": [
        "## Loads data"
      ],
      "metadata": {
        "id": "d2IMqvyemPk7"
      }
    },
    {
      "cell_type": "code",
      "source": [
        "# 生成資料集\n",
        "X, Y = make_classification(3000, n_features=2, n_redundant=0, n_clusters_per_class=1, random_state=42, class_sep=2)"
      ],
      "metadata": {
        "id": "ZjRkMCiVmWRl"
      },
      "execution_count": null,
      "outputs": []
    },
    {
      "cell_type": "code",
      "source": [
        "X.shape"
      ],
      "metadata": {
        "id": "R2-RhePGmdZa"
      },
      "execution_count": null,
      "outputs": []
    },
    {
      "cell_type": "code",
      "source": [
        "Y.shape"
      ],
      "metadata": {
        "id": "2dsKjzlJme8G"
      },
      "execution_count": null,
      "outputs": []
    },
    {
      "cell_type": "code",
      "source": [
        "# 繪製資料分布\n",
        "XT = X.T\n",
        "plt.scatter(XT[0], XT[1], c=Y)"
      ],
      "metadata": {
        "id": "nE44zi7j5niN"
      },
      "execution_count": null,
      "outputs": []
    },
    {
      "cell_type": "markdown",
      "source": [
        "## 分割資料集"
      ],
      "metadata": {
        "id": "8sCHEAtUGBon"
      }
    },
    {
      "cell_type": "code",
      "source": [
        "X_test = X[-300:]\n",
        "X_train = X[:-300]\n",
        "Y_test = Y[-300:]\n",
        "Y_train = Y[:-300]"
      ],
      "metadata": {
        "id": "iu5KJ9mxGFU5"
      },
      "execution_count": null,
      "outputs": []
    },
    {
      "cell_type": "code",
      "source": [
        "X_test.shape"
      ],
      "metadata": {
        "id": "lKpUuzB9GT6w"
      },
      "execution_count": null,
      "outputs": []
    },
    {
      "cell_type": "code",
      "source": [
        "Y_test.shape"
      ],
      "metadata": {
        "id": "IOrbOsrvGbEc"
      },
      "execution_count": null,
      "outputs": []
    },
    {
      "cell_type": "markdown",
      "source": [
        "## 蓋SVM"
      ],
      "metadata": {
        "id": "wnSo92cx83op"
      }
    },
    {
      "cell_type": "code",
      "source": [
        "clf = svm.SVC()"
      ],
      "metadata": {
        "id": "0m1igjgS8rHs"
      },
      "execution_count": null,
      "outputs": []
    },
    {
      "cell_type": "code",
      "source": [
        "clf.fit(X_train,Y_train)"
      ],
      "metadata": {
        "id": "ZGhvi-GR9Ndf"
      },
      "execution_count": null,
      "outputs": []
    },
    {
      "cell_type": "markdown",
      "source": [
        "## 繪製分類邊界\n",
        "from https://stackoverflow.com/questions/51297423/plot-scikit-learn-sklearn-svm-decision-boundary-surface"
      ],
      "metadata": {
        "id": "81Z-eVrJJkO0"
      }
    },
    {
      "cell_type": "code",
      "source": [
        "def make_meshgrid(x, y, h=.02):\n",
        "    x_min, x_max = x.min() - 1, x.max() + 1\n",
        "    y_min, y_max = y.min() - 1, y.max() + 1\n",
        "    xx, yy = np.meshgrid(np.arange(x_min, x_max, h), np.arange(y_min, y_max, h))\n",
        "    return xx, yy\n",
        "\n",
        "def plot_contours(ax, clf, xx, yy, **params):\n",
        "    Z = clf.predict(np.c_[xx.ravel(), yy.ravel()])\n",
        "    Z = Z.reshape(xx.shape)\n",
        "    out = ax.contourf(xx, yy, Z, **params)\n",
        "    return out"
      ],
      "metadata": {
        "id": "mOPomnlEHmJF"
      },
      "execution_count": null,
      "outputs": []
    },
    {
      "cell_type": "code",
      "source": [
        "fig, ax = plt.subplots()\n",
        "\n",
        "title = ('SVC')\n",
        "\n",
        "X0, X1 = X_train[:, 0], X_train[:, 1]\n",
        "xx, yy = make_meshgrid(X0, X1)\n",
        "\n",
        "plot_contours(ax, clf, xx, yy, cmap=plt.cm.coolwarm, alpha=0.8)\n",
        "ax.scatter(X0, X1, c=Y_train, cmap=plt.cm.coolwarm, s=20, edgecolors='k')\n",
        "ax.set_ylabel('feature 1')\n",
        "ax.set_xlabel('feature 2')\n",
        "ax.set_xticks(())\n",
        "ax.set_yticks(())\n",
        "ax.set_title(title)\n",
        "ax.legend()\n",
        "plt.show()"
      ],
      "metadata": {
        "id": "1SQNsfxwHuw5"
      },
      "execution_count": null,
      "outputs": []
    },
    {
      "cell_type": "markdown",
      "source": [
        "## 測試SVM"
      ],
      "metadata": {
        "id": "3YjR09g3_K6j"
      }
    },
    {
      "cell_type": "code",
      "source": [
        "prediction = clf.predict(X_test)"
      ],
      "metadata": {
        "id": "ZWJs4qk09iQP"
      },
      "execution_count": null,
      "outputs": []
    },
    {
      "cell_type": "code",
      "source": [
        "# 原始labels\n",
        "XT_test = X_test.T\n",
        "plt.scatter(XT_test[0], XT_test[1], c=Y_test)"
      ],
      "metadata": {
        "id": "DyEbzuvc94Tt"
      },
      "execution_count": null,
      "outputs": []
    },
    {
      "cell_type": "code",
      "source": [
        "# 模型預測的答案\n",
        "XT_test = X_test.T\n",
        "plt.scatter(XT_test[0], XT_test[1], c=prediction)"
      ],
      "metadata": {
        "id": "AQYhjIAN-B5i"
      },
      "execution_count": null,
      "outputs": []
    },
    {
      "cell_type": "code",
      "source": [
        "# 算accuracy\n",
        "acc = 1.0\n",
        "for i,j in zip(Y_test, prediction):\n",
        "    if i != j:\n",
        "        acc = acc-(1/300)"
      ],
      "metadata": {
        "id": "Go2yajEB-l_V"
      },
      "execution_count": null,
      "outputs": []
    },
    {
      "cell_type": "code",
      "source": [
        "print(acc)"
      ],
      "metadata": {
        "id": "tqIaLP2J_Bff"
      },
      "execution_count": null,
      "outputs": []
    }
  ]
}