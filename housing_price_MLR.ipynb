{
  "nbformat": 4,
  "nbformat_minor": 0,
  "metadata": {
    "colab": {
      "provenance": [],
      "authorship_tag": "ABX9TyNtMaGV7hkxRnaDASN7BP9D"
    },
    "kernelspec": {
      "name": "python3",
      "display_name": "Python 3"
    },
    "language_info": {
      "name": "python"
    }
  },
  "cells": [
    {
      "cell_type": "markdown",
      "source": [
        "# 多元線性迴歸\n",
        "### 中電會三月主題課程(2024/3/23)"
      ],
      "metadata": {
        "id": "XtKCWn25TeAj"
      }
    },
    {
      "cell_type": "markdown",
      "source": [
        "<table class=\"tfo-notebook-buttons\" align=\"left\">\n",
        "  <td>\n",
        "  <td>\n",
        "    <a target=\"_blank\" href=\"https://colab.research.google.com/github/ChiuDeYuan/linear_regression_example/blob/main/housing_price_MLR.ipynb\"><img src=\"https://www.tensorflow.org/images/colab_logo_32px.png\" />Run in Google Colab</a>\n",
        "  </td>\n",
        "  <td>\n",
        "    <a target=\"_blank\" href=\"https://github.com/ChiuDeYuan/linear_regression_example/blob/main/housing_price_MLR.ipynb\"><img src=\"https://www.tensorflow.org/images/GitHub-Mark-32px.png\" />View on GitHub</a>\n",
        "  </td>\n",
        "</table>"
      ],
      "metadata": {
        "id": "5lEMv_ZRTouH"
      }
    },
    {
      "cell_type": "markdown",
      "source": [
        "## Useful links\n",
        "\n",
        "* Housing Prices Dataset : https://www.kaggle.com/datasets/yasserh/housing-prices-dataset\n",
        "* Linear Models (Scikit-learn) : https://scikit-learn.org/stable/modules/linear_model.html"
      ],
      "metadata": {
        "id": "S5p8ecIJzRCw"
      }
    },
    {
      "cell_type": "markdown",
      "source": [
        "## Imports"
      ],
      "metadata": {
        "id": "HG2HpdT-Ue4Z"
      }
    },
    {
      "cell_type": "code",
      "execution_count": 1,
      "metadata": {
        "id": "v7Kto9qCPGQ_"
      },
      "outputs": [],
      "source": [
        "from sklearn import linear_model\n",
        "from sklearn.metrics import r2_score\n",
        "from sklearn.utils import shuffle\n",
        "from sklearn.feature_selection import RFE"
      ]
    },
    {
      "cell_type": "code",
      "source": [
        "import statsmodels.api as sm"
      ],
      "metadata": {
        "id": "UxzloMZHcMtM"
      },
      "execution_count": 2,
      "outputs": []
    },
    {
      "cell_type": "code",
      "source": [
        "import matplotlib.pyplot as plt\n",
        "import numpy as np\n",
        "import pandas as pd"
      ],
      "metadata": {
        "id": "FIDSumF6WZ4C"
      },
      "execution_count": 3,
      "outputs": []
    },
    {
      "cell_type": "markdown",
      "source": [
        "## Loads data"
      ],
      "metadata": {
        "id": "uguOE2FJUj4Z"
      }
    },
    {
      "cell_type": "code",
      "source": [
        "dataset_path = 'https://raw.githubusercontent.com/ChiuDeYuan/linear_regression_example/main/Housing.csv'\n",
        "dataset = pd.read_csv(dataset_path)"
      ],
      "metadata": {
        "id": "E9DjVwYfWdHJ"
      },
      "execution_count": 4,
      "outputs": []
    },
    {
      "cell_type": "code",
      "source": [
        "dataset.head()"
      ],
      "metadata": {
        "id": "9Q5fYWRzWdaN"
      },
      "execution_count": null,
      "outputs": []
    },
    {
      "cell_type": "code",
      "source": [
        "dataset.shape"
      ],
      "metadata": {
        "id": "Z1HbiTqvWg5v"
      },
      "execution_count": null,
      "outputs": []
    },
    {
      "cell_type": "markdown",
      "source": [
        "## 準備資料"
      ],
      "metadata": {
        "id": "c9lRpenTUuDL"
      }
    },
    {
      "cell_type": "code",
      "source": [
        "mapped_var = ['mainroad', 'guestroom', 'basement', 'hotwaterheating', 'airconditioning', 'prefarea']\n",
        "\n",
        "def map_func(x):\n",
        "    return x.map({'yes':1 , 'no':0})\n",
        "\n",
        "dataset[mapped_var] = dataset[mapped_var].apply(map_func)"
      ],
      "metadata": {
        "id": "Uh-yU7cxYSOj"
      },
      "execution_count": 7,
      "outputs": []
    },
    {
      "cell_type": "code",
      "source": [
        "dataset = dataset.drop('furnishingstatus', axis=1)"
      ],
      "metadata": {
        "id": "KLJJXCm4YS6T"
      },
      "execution_count": 8,
      "outputs": []
    },
    {
      "cell_type": "code",
      "source": [
        "dataset.head()"
      ],
      "metadata": {
        "id": "boKu1_elYS4X"
      },
      "execution_count": null,
      "outputs": []
    },
    {
      "cell_type": "markdown",
      "source": [
        "## 縮放數據"
      ],
      "metadata": {
        "id": "Vy5NMl8xUyGO"
      }
    },
    {
      "cell_type": "code",
      "source": [
        "from sklearn.preprocessing import MinMaxScaler"
      ],
      "metadata": {
        "id": "RcLjNyVKYf73"
      },
      "execution_count": 10,
      "outputs": []
    },
    {
      "cell_type": "code",
      "source": [
        "scaler = MinMaxScaler()\n",
        "\n",
        "vars = ['area', 'bedrooms', 'bathrooms', 'stories', 'parking', 'price']\n",
        "dataset[vars] = scaler.fit_transform(dataset[vars])"
      ],
      "metadata": {
        "id": "3yIWMb9LYhVJ"
      },
      "execution_count": 11,
      "outputs": []
    },
    {
      "cell_type": "code",
      "source": [
        "dataset.head()"
      ],
      "metadata": {
        "id": "q_qb8ebVYkBq"
      },
      "execution_count": null,
      "outputs": []
    },
    {
      "cell_type": "code",
      "source": [
        "dataset.describe()"
      ],
      "metadata": {
        "id": "7kOKVCTqYkg1"
      },
      "execution_count": null,
      "outputs": []
    },
    {
      "cell_type": "markdown",
      "source": [
        "## 篩選特徵"
      ],
      "metadata": {
        "id": "2_i-bUEgU5sI"
      }
    },
    {
      "cell_type": "code",
      "source": [
        "import seaborn as sns\n",
        "\n",
        "plt.figure(figsize = (8, 5))\n",
        "sns.heatmap(dataset.corr(), annot = True, cmap=\"PuBuGn\")\n",
        "plt.show()"
      ],
      "metadata": {
        "id": "mymn-ikZYmB7"
      },
      "execution_count": null,
      "outputs": []
    },
    {
      "cell_type": "code",
      "source": [
        "dataset_y = dataset.pop('price')\n",
        "dataset_x = dataset"
      ],
      "metadata": {
        "id": "BgKoIxi7bRYt"
      },
      "execution_count": 15,
      "outputs": []
    },
    {
      "cell_type": "code",
      "source": [
        "reg = linear_model.LinearRegression(fit_intercept = True)"
      ],
      "metadata": {
        "id": "cynhpGvnbU5L"
      },
      "execution_count": 16,
      "outputs": []
    },
    {
      "cell_type": "code",
      "source": [
        "rfe = RFE(reg, n_features_to_select=5)\n",
        "rfe = rfe.fit(dataset_x, dataset_y)"
      ],
      "metadata": {
        "id": "brNmRzaLbY4D"
      },
      "execution_count": 17,
      "outputs": []
    },
    {
      "cell_type": "code",
      "source": [
        "list(zip(dataset_x.columns, rfe.support_, rfe.ranking_))"
      ],
      "metadata": {
        "id": "DGdAPk8nbfIq"
      },
      "execution_count": null,
      "outputs": []
    },
    {
      "cell_type": "code",
      "source": [
        "col = dataset_x.columns[rfe.support_]\n",
        "col"
      ],
      "metadata": {
        "id": "q8DfFb9ebkAY"
      },
      "execution_count": null,
      "outputs": []
    },
    {
      "cell_type": "code",
      "source": [
        "dataset_x = dataset_x[col]"
      ],
      "metadata": {
        "id": "eLfREQ-Pblbe"
      },
      "execution_count": 20,
      "outputs": []
    },
    {
      "cell_type": "code",
      "source": [
        "dataset_x = sm.add_constant(dataset_x)"
      ],
      "metadata": {
        "id": "YlaeaMumcVXg"
      },
      "execution_count": 21,
      "outputs": []
    },
    {
      "cell_type": "code",
      "source": [
        "dataset_x.head()"
      ],
      "metadata": {
        "id": "4bfAxZoShB90"
      },
      "execution_count": null,
      "outputs": []
    },
    {
      "cell_type": "markdown",
      "source": [
        "## 分割資料集"
      ],
      "metadata": {
        "id": "nUh9zvmxU-Wr"
      }
    },
    {
      "cell_type": "code",
      "source": [
        "dataset_x, dataset_y = shuffle(dataset_x, dataset_y, random_state=0)"
      ],
      "metadata": {
        "id": "knlUs0-Gw7Cp"
      },
      "execution_count": 23,
      "outputs": []
    },
    {
      "cell_type": "code",
      "source": [
        "dataset_x_train = dataset_x[:-30]\n",
        "dataset_x_test = dataset_x[-30:]\n",
        "\n",
        "dataset_y_train = dataset_y[:-30]\n",
        "dataset_y_test = dataset_y[-30:]"
      ],
      "metadata": {
        "id": "2mael0s-fLzg"
      },
      "execution_count": 24,
      "outputs": []
    },
    {
      "cell_type": "code",
      "source": [
        "print(f\"{dataset_x_train.shape}\\n{dataset_x_test.shape}\")"
      ],
      "metadata": {
        "id": "XQTX08aDfMGG"
      },
      "execution_count": null,
      "outputs": []
    },
    {
      "cell_type": "markdown",
      "source": [
        "## 訓練模型"
      ],
      "metadata": {
        "id": "4yOlqsyuVJPj"
      }
    },
    {
      "cell_type": "code",
      "source": [
        "reg = sm.OLS(dataset_y_train,dataset_x_train).fit()"
      ],
      "metadata": {
        "id": "HpARvlUJfQpS"
      },
      "execution_count": 26,
      "outputs": []
    },
    {
      "cell_type": "markdown",
      "source": [
        "## 預測&評估"
      ],
      "metadata": {
        "id": "qZYhgkrkVPRd"
      }
    },
    {
      "cell_type": "code",
      "source": [
        "print(reg.summary())"
      ],
      "metadata": {
        "id": "2Hipz7o0fXzD"
      },
      "execution_count": null,
      "outputs": []
    },
    {
      "cell_type": "code",
      "source": [
        "prediction = reg.predict(dataset_x_test)"
      ],
      "metadata": {
        "id": "ZVi4vbqofZiv"
      },
      "execution_count": 28,
      "outputs": []
    },
    {
      "cell_type": "code",
      "source": [
        "r2_score(dataset_y_test, prediction)"
      ],
      "metadata": {
        "id": "CGX4TZvWfbN9"
      },
      "execution_count": null,
      "outputs": []
    }
  ]
}